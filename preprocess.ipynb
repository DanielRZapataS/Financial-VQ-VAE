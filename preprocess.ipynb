{
 "cells": [
  {
   "cell_type": "code",
   "execution_count": 108,
   "metadata": {},
   "outputs": [],
   "source": [
    "import os\n",
    "import pandas as pd\n",
    "import numpy as np\n",
    "from sklearn.model_selection import train_test_split"
   ]
  },
  {
   "cell_type": "code",
   "execution_count": 109,
   "metadata": {},
   "outputs": [
    {
     "data": {
      "text/html": [
       "<div>\n",
       "<style scoped>\n",
       "    .dataframe tbody tr th:only-of-type {\n",
       "        vertical-align: middle;\n",
       "    }\n",
       "\n",
       "    .dataframe tbody tr th {\n",
       "        vertical-align: top;\n",
       "    }\n",
       "\n",
       "    .dataframe thead th {\n",
       "        text-align: right;\n",
       "    }\n",
       "</style>\n",
       "<table border=\"1\" class=\"dataframe\">\n",
       "  <thead>\n",
       "    <tr style=\"text-align: right;\">\n",
       "      <th></th>\n",
       "      <th>MMM</th>\n",
       "      <th>AOS</th>\n",
       "      <th>ABT</th>\n",
       "      <th>ABBV</th>\n",
       "      <th>ACN</th>\n",
       "      <th>ATVI</th>\n",
       "      <th>ADM</th>\n",
       "      <th>ADBE</th>\n",
       "      <th>ADP</th>\n",
       "      <th>AAP</th>\n",
       "      <th>...</th>\n",
       "      <th>WTW</th>\n",
       "      <th>GWW</th>\n",
       "      <th>WYNN</th>\n",
       "      <th>XEL</th>\n",
       "      <th>XYL</th>\n",
       "      <th>YUM</th>\n",
       "      <th>ZBRA</th>\n",
       "      <th>ZBH</th>\n",
       "      <th>ZION</th>\n",
       "      <th>ZTS</th>\n",
       "    </tr>\n",
       "    <tr>\n",
       "      <th>Date</th>\n",
       "      <th></th>\n",
       "      <th></th>\n",
       "      <th></th>\n",
       "      <th></th>\n",
       "      <th></th>\n",
       "      <th></th>\n",
       "      <th></th>\n",
       "      <th></th>\n",
       "      <th></th>\n",
       "      <th></th>\n",
       "      <th></th>\n",
       "      <th></th>\n",
       "      <th></th>\n",
       "      <th></th>\n",
       "      <th></th>\n",
       "      <th></th>\n",
       "      <th></th>\n",
       "      <th></th>\n",
       "      <th></th>\n",
       "      <th></th>\n",
       "      <th></th>\n",
       "    </tr>\n",
       "  </thead>\n",
       "  <tbody>\n",
       "    <tr>\n",
       "      <th>2000-01-04</th>\n",
       "      <td>-0.040546</td>\n",
       "      <td>-0.014514</td>\n",
       "      <td>-0.028988</td>\n",
       "      <td>NaN</td>\n",
       "      <td>NaN</td>\n",
       "      <td>-0.030891</td>\n",
       "      <td>-0.010472</td>\n",
       "      <td>-0.087618</td>\n",
       "      <td>0.000000</td>\n",
       "      <td>NaN</td>\n",
       "      <td>...</td>\n",
       "      <td>NaN</td>\n",
       "      <td>-0.028987</td>\n",
       "      <td>NaN</td>\n",
       "      <td>0.022765</td>\n",
       "      <td>NaN</td>\n",
       "      <td>-0.020305</td>\n",
       "      <td>-0.014533</td>\n",
       "      <td>NaN</td>\n",
       "      <td>-0.049635</td>\n",
       "      <td>NaN</td>\n",
       "    </tr>\n",
       "    <tr>\n",
       "      <th>2000-01-05</th>\n",
       "      <td>0.028554</td>\n",
       "      <td>-0.002929</td>\n",
       "      <td>-0.001839</td>\n",
       "      <td>NaN</td>\n",
       "      <td>NaN</td>\n",
       "      <td>0.003913</td>\n",
       "      <td>-0.015915</td>\n",
       "      <td>0.019578</td>\n",
       "      <td>-0.009661</td>\n",
       "      <td>NaN</td>\n",
       "      <td>...</td>\n",
       "      <td>NaN</td>\n",
       "      <td>0.013909</td>\n",
       "      <td>NaN</td>\n",
       "      <td>0.037860</td>\n",
       "      <td>NaN</td>\n",
       "      <td>0.005115</td>\n",
       "      <td>0.018963</td>\n",
       "      <td>NaN</td>\n",
       "      <td>-0.001184</td>\n",
       "      <td>NaN</td>\n",
       "    </tr>\n",
       "    <tr>\n",
       "      <th>2000-01-06</th>\n",
       "      <td>0.077358</td>\n",
       "      <td>-0.014771</td>\n",
       "      <td>0.034393</td>\n",
       "      <td>NaN</td>\n",
       "      <td>NaN</td>\n",
       "      <td>-0.019724</td>\n",
       "      <td>0.005333</td>\n",
       "      <td>0.008130</td>\n",
       "      <td>0.013260</td>\n",
       "      <td>NaN</td>\n",
       "      <td>...</td>\n",
       "      <td>NaN</td>\n",
       "      <td>-0.004153</td>\n",
       "      <td>NaN</td>\n",
       "      <td>-0.009331</td>\n",
       "      <td>NaN</td>\n",
       "      <td>-0.008539</td>\n",
       "      <td>-0.055665</td>\n",
       "      <td>NaN</td>\n",
       "      <td>0.014118</td>\n",
       "      <td>NaN</td>\n",
       "    </tr>\n",
       "    <tr>\n",
       "      <th>2000-01-07</th>\n",
       "      <td>0.019657</td>\n",
       "      <td>0.040822</td>\n",
       "      <td>0.010619</td>\n",
       "      <td>NaN</td>\n",
       "      <td>NaN</td>\n",
       "      <td>0.027506</td>\n",
       "      <td>0.015831</td>\n",
       "      <td>0.047440</td>\n",
       "      <td>0.022500</td>\n",
       "      <td>NaN</td>\n",
       "      <td>...</td>\n",
       "      <td>NaN</td>\n",
       "      <td>-0.015374</td>\n",
       "      <td>NaN</td>\n",
       "      <td>0.000000</td>\n",
       "      <td>NaN</td>\n",
       "      <td>-0.022551</td>\n",
       "      <td>-0.011160</td>\n",
       "      <td>NaN</td>\n",
       "      <td>0.002333</td>\n",
       "      <td>NaN</td>\n",
       "    </tr>\n",
       "    <tr>\n",
       "      <th>2000-01-10</th>\n",
       "      <td>-0.004879</td>\n",
       "      <td>0.011363</td>\n",
       "      <td>-0.007067</td>\n",
       "      <td>NaN</td>\n",
       "      <td>NaN</td>\n",
       "      <td>0.049159</td>\n",
       "      <td>0.000000</td>\n",
       "      <td>0.037883</td>\n",
       "      <td>0.024292</td>\n",
       "      <td>NaN</td>\n",
       "      <td>...</td>\n",
       "      <td>NaN</td>\n",
       "      <td>0.042736</td>\n",
       "      <td>NaN</td>\n",
       "      <td>0.000000</td>\n",
       "      <td>NaN</td>\n",
       "      <td>0.039558</td>\n",
       "      <td>0.033114</td>\n",
       "      <td>NaN</td>\n",
       "      <td>-0.018230</td>\n",
       "      <td>NaN</td>\n",
       "    </tr>\n",
       "  </tbody>\n",
       "</table>\n",
       "<p>5 rows × 503 columns</p>\n",
       "</div>"
      ],
      "text/plain": [
       "                 MMM       AOS       ABT  ABBV  ACN      ATVI       ADM   \n",
       "Date                                                                      \n",
       "2000-01-04 -0.040546 -0.014514 -0.028988   NaN  NaN -0.030891 -0.010472  \\\n",
       "2000-01-05  0.028554 -0.002929 -0.001839   NaN  NaN  0.003913 -0.015915   \n",
       "2000-01-06  0.077358 -0.014771  0.034393   NaN  NaN -0.019724  0.005333   \n",
       "2000-01-07  0.019657  0.040822  0.010619   NaN  NaN  0.027506  0.015831   \n",
       "2000-01-10 -0.004879  0.011363 -0.007067   NaN  NaN  0.049159  0.000000   \n",
       "\n",
       "                ADBE       ADP  AAP  ...  WTW       GWW  WYNN       XEL  XYL   \n",
       "Date                                 ...                                       \n",
       "2000-01-04 -0.087618  0.000000  NaN  ...  NaN -0.028987   NaN  0.022765  NaN  \\\n",
       "2000-01-05  0.019578 -0.009661  NaN  ...  NaN  0.013909   NaN  0.037860  NaN   \n",
       "2000-01-06  0.008130  0.013260  NaN  ...  NaN -0.004153   NaN -0.009331  NaN   \n",
       "2000-01-07  0.047440  0.022500  NaN  ...  NaN -0.015374   NaN  0.000000  NaN   \n",
       "2000-01-10  0.037883  0.024292  NaN  ...  NaN  0.042736   NaN  0.000000  NaN   \n",
       "\n",
       "                 YUM      ZBRA  ZBH      ZION  ZTS  \n",
       "Date                                                \n",
       "2000-01-04 -0.020305 -0.014533  NaN -0.049635  NaN  \n",
       "2000-01-05  0.005115  0.018963  NaN -0.001184  NaN  \n",
       "2000-01-06 -0.008539 -0.055665  NaN  0.014118  NaN  \n",
       "2000-01-07 -0.022551 -0.011160  NaN  0.002333  NaN  \n",
       "2000-01-10  0.039558  0.033114  NaN -0.018230  NaN  \n",
       "\n",
       "[5 rows x 503 columns]"
      ]
     },
     "execution_count": 109,
     "metadata": {},
     "output_type": "execute_result"
    }
   ],
   "source": [
    "df = pd.read_csv('data/download_data/sp500_joined_closes.csv')\n",
    "df['Date']= pd.to_datetime(df['Date'])\n",
    "df.set_index('Date', inplace=True)\n",
    "df.head()\n"
   ]
  },
  {
   "cell_type": "code",
   "execution_count": 110,
   "metadata": {},
   "outputs": [
    {
     "data": {
      "text/html": [
       "<div>\n",
       "<style scoped>\n",
       "    .dataframe tbody tr th:only-of-type {\n",
       "        vertical-align: middle;\n",
       "    }\n",
       "\n",
       "    .dataframe tbody tr th {\n",
       "        vertical-align: top;\n",
       "    }\n",
       "\n",
       "    .dataframe thead th {\n",
       "        text-align: right;\n",
       "    }\n",
       "</style>\n",
       "<table border=\"1\" class=\"dataframe\">\n",
       "  <thead>\n",
       "    <tr style=\"text-align: right;\">\n",
       "      <th></th>\n",
       "      <th>MMM</th>\n",
       "      <th>AOS</th>\n",
       "      <th>ABT</th>\n",
       "      <th>ABBV</th>\n",
       "      <th>ACN</th>\n",
       "      <th>ATVI</th>\n",
       "      <th>ADM</th>\n",
       "      <th>ADBE</th>\n",
       "      <th>ADP</th>\n",
       "      <th>AAP</th>\n",
       "      <th>...</th>\n",
       "      <th>WTW</th>\n",
       "      <th>GWW</th>\n",
       "      <th>WYNN</th>\n",
       "      <th>XEL</th>\n",
       "      <th>XYL</th>\n",
       "      <th>YUM</th>\n",
       "      <th>ZBRA</th>\n",
       "      <th>ZBH</th>\n",
       "      <th>ZION</th>\n",
       "      <th>ZTS</th>\n",
       "    </tr>\n",
       "    <tr>\n",
       "      <th>Date</th>\n",
       "      <th></th>\n",
       "      <th></th>\n",
       "      <th></th>\n",
       "      <th></th>\n",
       "      <th></th>\n",
       "      <th></th>\n",
       "      <th></th>\n",
       "      <th></th>\n",
       "      <th></th>\n",
       "      <th></th>\n",
       "      <th></th>\n",
       "      <th></th>\n",
       "      <th></th>\n",
       "      <th></th>\n",
       "      <th></th>\n",
       "      <th></th>\n",
       "      <th></th>\n",
       "      <th></th>\n",
       "      <th></th>\n",
       "      <th></th>\n",
       "      <th></th>\n",
       "    </tr>\n",
       "  </thead>\n",
       "  <tbody>\n",
       "    <tr>\n",
       "      <th>2009-07-01</th>\n",
       "      <td>0.010593</td>\n",
       "      <td>0.044145</td>\n",
       "      <td>-0.008540</td>\n",
       "      <td>NaN</td>\n",
       "      <td>0.008334</td>\n",
       "      <td>0.009456</td>\n",
       "      <td>0.028721</td>\n",
       "      <td>0.012641</td>\n",
       "      <td>-0.002543</td>\n",
       "      <td>0.014358</td>\n",
       "      <td>...</td>\n",
       "      <td>0.006199</td>\n",
       "      <td>0.000733</td>\n",
       "      <td>0.002547</td>\n",
       "      <td>0.019899</td>\n",
       "      <td>NaN</td>\n",
       "      <td>0.049162</td>\n",
       "      <td>0.026690</td>\n",
       "      <td>-0.017284</td>\n",
       "      <td>-0.018333</td>\n",
       "      <td>NaN</td>\n",
       "    </tr>\n",
       "    <tr>\n",
       "      <th>2009-07-02</th>\n",
       "      <td>-0.008100</td>\n",
       "      <td>-0.012118</td>\n",
       "      <td>-0.007748</td>\n",
       "      <td>NaN</td>\n",
       "      <td>-0.017943</td>\n",
       "      <td>-0.026223</td>\n",
       "      <td>-0.037350</td>\n",
       "      <td>-0.036238</td>\n",
       "      <td>-0.033658</td>\n",
       "      <td>0.003557</td>\n",
       "      <td>...</td>\n",
       "      <td>-0.023844</td>\n",
       "      <td>-0.022587</td>\n",
       "      <td>-0.057574</td>\n",
       "      <td>-0.025345</td>\n",
       "      <td>NaN</td>\n",
       "      <td>-0.022233</td>\n",
       "      <td>-0.026268</td>\n",
       "      <td>-0.040206</td>\n",
       "      <td>-0.025883</td>\n",
       "      <td>NaN</td>\n",
       "    </tr>\n",
       "    <tr>\n",
       "      <th>2009-07-06</th>\n",
       "      <td>0.006946</td>\n",
       "      <td>-0.005965</td>\n",
       "      <td>-0.006069</td>\n",
       "      <td>NaN</td>\n",
       "      <td>-0.000302</td>\n",
       "      <td>-0.018692</td>\n",
       "      <td>0.007882</td>\n",
       "      <td>-0.017519</td>\n",
       "      <td>0.002630</td>\n",
       "      <td>0.002837</td>\n",
       "      <td>...</td>\n",
       "      <td>-0.034202</td>\n",
       "      <td>0.020755</td>\n",
       "      <td>-0.021786</td>\n",
       "      <td>0.013022</td>\n",
       "      <td>NaN</td>\n",
       "      <td>0.017367</td>\n",
       "      <td>-0.000845</td>\n",
       "      <td>0.001243</td>\n",
       "      <td>0.006309</td>\n",
       "      <td>NaN</td>\n",
       "    </tr>\n",
       "    <tr>\n",
       "      <th>2009-07-07</th>\n",
       "      <td>-0.031988</td>\n",
       "      <td>-0.038108</td>\n",
       "      <td>-0.014452</td>\n",
       "      <td>NaN</td>\n",
       "      <td>-0.017048</td>\n",
       "      <td>-0.034213</td>\n",
       "      <td>0.017785</td>\n",
       "      <td>-0.030657</td>\n",
       "      <td>-0.027812</td>\n",
       "      <td>-0.014505</td>\n",
       "      <td>...</td>\n",
       "      <td>0.000410</td>\n",
       "      <td>-0.018012</td>\n",
       "      <td>-0.061179</td>\n",
       "      <td>-0.020697</td>\n",
       "      <td>NaN</td>\n",
       "      <td>-0.010094</td>\n",
       "      <td>-0.018349</td>\n",
       "      <td>-0.012997</td>\n",
       "      <td>-0.009932</td>\n",
       "      <td>NaN</td>\n",
       "    </tr>\n",
       "    <tr>\n",
       "      <th>2009-07-08</th>\n",
       "      <td>0.004415</td>\n",
       "      <td>-0.009994</td>\n",
       "      <td>0.021169</td>\n",
       "      <td>NaN</td>\n",
       "      <td>0.002453</td>\n",
       "      <td>-0.025797</td>\n",
       "      <td>-0.025666</td>\n",
       "      <td>0.004923</td>\n",
       "      <td>0.018431</td>\n",
       "      <td>0.055893</td>\n",
       "      <td>...</td>\n",
       "      <td>-0.007393</td>\n",
       "      <td>-0.014925</td>\n",
       "      <td>-0.027697</td>\n",
       "      <td>-0.003860</td>\n",
       "      <td>NaN</td>\n",
       "      <td>0.020371</td>\n",
       "      <td>-0.067702</td>\n",
       "      <td>0.007269</td>\n",
       "      <td>-0.006373</td>\n",
       "      <td>NaN</td>\n",
       "    </tr>\n",
       "    <tr>\n",
       "      <th>...</th>\n",
       "      <td>...</td>\n",
       "      <td>...</td>\n",
       "      <td>...</td>\n",
       "      <td>...</td>\n",
       "      <td>...</td>\n",
       "      <td>...</td>\n",
       "      <td>...</td>\n",
       "      <td>...</td>\n",
       "      <td>...</td>\n",
       "      <td>...</td>\n",
       "      <td>...</td>\n",
       "      <td>...</td>\n",
       "      <td>...</td>\n",
       "      <td>...</td>\n",
       "      <td>...</td>\n",
       "      <td>...</td>\n",
       "      <td>...</td>\n",
       "      <td>...</td>\n",
       "      <td>...</td>\n",
       "      <td>...</td>\n",
       "      <td>...</td>\n",
       "    </tr>\n",
       "    <tr>\n",
       "      <th>2019-11-22</th>\n",
       "      <td>0.014787</td>\n",
       "      <td>-0.005174</td>\n",
       "      <td>0.000717</td>\n",
       "      <td>-0.005447</td>\n",
       "      <td>-0.000610</td>\n",
       "      <td>-0.012180</td>\n",
       "      <td>-0.002338</td>\n",
       "      <td>0.001672</td>\n",
       "      <td>-0.001237</td>\n",
       "      <td>-0.002909</td>\n",
       "      <td>...</td>\n",
       "      <td>-0.000896</td>\n",
       "      <td>0.020171</td>\n",
       "      <td>0.006821</td>\n",
       "      <td>-0.007157</td>\n",
       "      <td>-0.006998</td>\n",
       "      <td>-0.002864</td>\n",
       "      <td>0.003908</td>\n",
       "      <td>0.010485</td>\n",
       "      <td>0.016549</td>\n",
       "      <td>-0.003416</td>\n",
       "    </tr>\n",
       "    <tr>\n",
       "      <th>2019-11-25</th>\n",
       "      <td>0.015629</td>\n",
       "      <td>0.011551</td>\n",
       "      <td>0.008916</td>\n",
       "      <td>0.019677</td>\n",
       "      <td>0.008607</td>\n",
       "      <td>0.012925</td>\n",
       "      <td>0.008392</td>\n",
       "      <td>0.019783</td>\n",
       "      <td>0.003237</td>\n",
       "      <td>0.008075</td>\n",
       "      <td>...</td>\n",
       "      <td>0.017604</td>\n",
       "      <td>0.004660</td>\n",
       "      <td>0.039572</td>\n",
       "      <td>-0.007537</td>\n",
       "      <td>-0.003910</td>\n",
       "      <td>0.003987</td>\n",
       "      <td>0.021808</td>\n",
       "      <td>0.008723</td>\n",
       "      <td>0.004195</td>\n",
       "      <td>0.006655</td>\n",
       "    </tr>\n",
       "    <tr>\n",
       "      <th>2019-11-26</th>\n",
       "      <td>-0.005950</td>\n",
       "      <td>-0.001437</td>\n",
       "      <td>0.010947</td>\n",
       "      <td>-0.000456</td>\n",
       "      <td>0.012823</td>\n",
       "      <td>0.008156</td>\n",
       "      <td>-0.007690</td>\n",
       "      <td>0.008546</td>\n",
       "      <td>0.008308</td>\n",
       "      <td>-0.013028</td>\n",
       "      <td>...</td>\n",
       "      <td>0.008712</td>\n",
       "      <td>0.000593</td>\n",
       "      <td>-0.019714</td>\n",
       "      <td>0.006230</td>\n",
       "      <td>0.007285</td>\n",
       "      <td>0.017598</td>\n",
       "      <td>-0.004994</td>\n",
       "      <td>-0.001518</td>\n",
       "      <td>-0.010217</td>\n",
       "      <td>0.010557</td>\n",
       "    </tr>\n",
       "    <tr>\n",
       "      <th>2019-11-27</th>\n",
       "      <td>0.008121</td>\n",
       "      <td>0.001026</td>\n",
       "      <td>0.000000</td>\n",
       "      <td>0.006930</td>\n",
       "      <td>0.001641</td>\n",
       "      <td>0.005706</td>\n",
       "      <td>0.004435</td>\n",
       "      <td>0.003760</td>\n",
       "      <td>-0.000816</td>\n",
       "      <td>0.010701</td>\n",
       "      <td>...</td>\n",
       "      <td>0.007823</td>\n",
       "      <td>-0.004501</td>\n",
       "      <td>0.003449</td>\n",
       "      <td>0.006192</td>\n",
       "      <td>0.005945</td>\n",
       "      <td>0.008883</td>\n",
       "      <td>0.029868</td>\n",
       "      <td>0.011667</td>\n",
       "      <td>0.008222</td>\n",
       "      <td>-0.002135</td>\n",
       "    </tr>\n",
       "    <tr>\n",
       "      <th>2019-11-29</th>\n",
       "      <td>-0.004936</td>\n",
       "      <td>-0.007000</td>\n",
       "      <td>0.000351</td>\n",
       "      <td>-0.006816</td>\n",
       "      <td>-0.000447</td>\n",
       "      <td>0.006404</td>\n",
       "      <td>-0.000233</td>\n",
       "      <td>0.001520</td>\n",
       "      <td>-0.004090</td>\n",
       "      <td>-0.010764</td>\n",
       "      <td>...</td>\n",
       "      <td>0.000458</td>\n",
       "      <td>-0.007199</td>\n",
       "      <td>-0.009225</td>\n",
       "      <td>-0.001138</td>\n",
       "      <td>-0.001289</td>\n",
       "      <td>0.000298</td>\n",
       "      <td>-0.016873</td>\n",
       "      <td>-0.008772</td>\n",
       "      <td>-0.005809</td>\n",
       "      <td>-0.009168</td>\n",
       "    </tr>\n",
       "  </tbody>\n",
       "</table>\n",
       "<p>2623 rows × 503 columns</p>\n",
       "</div>"
      ],
      "text/plain": [
       "                 MMM       AOS       ABT      ABBV       ACN      ATVI   \n",
       "Date                                                                     \n",
       "2009-07-01  0.010593  0.044145 -0.008540       NaN  0.008334  0.009456  \\\n",
       "2009-07-02 -0.008100 -0.012118 -0.007748       NaN -0.017943 -0.026223   \n",
       "2009-07-06  0.006946 -0.005965 -0.006069       NaN -0.000302 -0.018692   \n",
       "2009-07-07 -0.031988 -0.038108 -0.014452       NaN -0.017048 -0.034213   \n",
       "2009-07-08  0.004415 -0.009994  0.021169       NaN  0.002453 -0.025797   \n",
       "...              ...       ...       ...       ...       ...       ...   \n",
       "2019-11-22  0.014787 -0.005174  0.000717 -0.005447 -0.000610 -0.012180   \n",
       "2019-11-25  0.015629  0.011551  0.008916  0.019677  0.008607  0.012925   \n",
       "2019-11-26 -0.005950 -0.001437  0.010947 -0.000456  0.012823  0.008156   \n",
       "2019-11-27  0.008121  0.001026  0.000000  0.006930  0.001641  0.005706   \n",
       "2019-11-29 -0.004936 -0.007000  0.000351 -0.006816 -0.000447  0.006404   \n",
       "\n",
       "                 ADM      ADBE       ADP       AAP  ...       WTW       GWW   \n",
       "Date                                                ...                       \n",
       "2009-07-01  0.028721  0.012641 -0.002543  0.014358  ...  0.006199  0.000733  \\\n",
       "2009-07-02 -0.037350 -0.036238 -0.033658  0.003557  ... -0.023844 -0.022587   \n",
       "2009-07-06  0.007882 -0.017519  0.002630  0.002837  ... -0.034202  0.020755   \n",
       "2009-07-07  0.017785 -0.030657 -0.027812 -0.014505  ...  0.000410 -0.018012   \n",
       "2009-07-08 -0.025666  0.004923  0.018431  0.055893  ... -0.007393 -0.014925   \n",
       "...              ...       ...       ...       ...  ...       ...       ...   \n",
       "2019-11-22 -0.002338  0.001672 -0.001237 -0.002909  ... -0.000896  0.020171   \n",
       "2019-11-25  0.008392  0.019783  0.003237  0.008075  ...  0.017604  0.004660   \n",
       "2019-11-26 -0.007690  0.008546  0.008308 -0.013028  ...  0.008712  0.000593   \n",
       "2019-11-27  0.004435  0.003760 -0.000816  0.010701  ...  0.007823 -0.004501   \n",
       "2019-11-29 -0.000233  0.001520 -0.004090 -0.010764  ...  0.000458 -0.007199   \n",
       "\n",
       "                WYNN       XEL       XYL       YUM      ZBRA       ZBH   \n",
       "Date                                                                     \n",
       "2009-07-01  0.002547  0.019899       NaN  0.049162  0.026690 -0.017284  \\\n",
       "2009-07-02 -0.057574 -0.025345       NaN -0.022233 -0.026268 -0.040206   \n",
       "2009-07-06 -0.021786  0.013022       NaN  0.017367 -0.000845  0.001243   \n",
       "2009-07-07 -0.061179 -0.020697       NaN -0.010094 -0.018349 -0.012997   \n",
       "2009-07-08 -0.027697 -0.003860       NaN  0.020371 -0.067702  0.007269   \n",
       "...              ...       ...       ...       ...       ...       ...   \n",
       "2019-11-22  0.006821 -0.007157 -0.006998 -0.002864  0.003908  0.010485   \n",
       "2019-11-25  0.039572 -0.007537 -0.003910  0.003987  0.021808  0.008723   \n",
       "2019-11-26 -0.019714  0.006230  0.007285  0.017598 -0.004994 -0.001518   \n",
       "2019-11-27  0.003449  0.006192  0.005945  0.008883  0.029868  0.011667   \n",
       "2019-11-29 -0.009225 -0.001138 -0.001289  0.000298 -0.016873 -0.008772   \n",
       "\n",
       "                ZION       ZTS  \n",
       "Date                            \n",
       "2009-07-01 -0.018333       NaN  \n",
       "2009-07-02 -0.025883       NaN  \n",
       "2009-07-06  0.006309       NaN  \n",
       "2009-07-07 -0.009932       NaN  \n",
       "2009-07-08 -0.006373       NaN  \n",
       "...              ...       ...  \n",
       "2019-11-22  0.016549 -0.003416  \n",
       "2019-11-25  0.004195  0.006655  \n",
       "2019-11-26 -0.010217  0.010557  \n",
       "2019-11-27  0.008222 -0.002135  \n",
       "2019-11-29 -0.005809 -0.009168  \n",
       "\n",
       "[2623 rows x 503 columns]"
      ]
     },
     "execution_count": 110,
     "metadata": {},
     "output_type": "execute_result"
    }
   ],
   "source": [
    "df = df['2009-07-01':'2019-12-01']\n",
    "df"
   ]
  },
  {
   "cell_type": "code",
   "execution_count": 111,
   "metadata": {},
   "outputs": [
    {
     "data": {
      "text/plain": [
       "(2623, 503)"
      ]
     },
     "execution_count": 111,
     "metadata": {},
     "output_type": "execute_result"
    }
   ],
   "source": [
    "df.shape"
   ]
  },
  {
   "cell_type": "code",
   "execution_count": 112,
   "metadata": {},
   "outputs": [
    {
     "data": {
      "text/plain": [
       "<Axes: xlabel='Date'>"
      ]
     },
     "execution_count": 112,
     "metadata": {},
     "output_type": "execute_result"
    },
    {
     "data": {
      "image/png": "[encoded data removed]",
      "text/plain": [
       "<Figure size 640x480 with 1 Axes>"
      ]
     },
     "metadata": {},
     "output_type": "display_data"
    }
   ],
   "source": [
    "df.MMM.plot()"
   ]
  },
  {
   "cell_type": "code",
   "execution_count": 113,
   "metadata": {},
   "outputs": [
    {
     "data": {
      "text/plain": [
       "Rolling [window=30d,min_periods=256,center=False,axis=0,method=single]"
      ]
     },
     "execution_count": 113,
     "metadata": {},
     "output_type": "execute_result"
    }
   ],
   "source": [
    "df.rolling('30d',256 )"
   ]
  },
  {
   "cell_type": "code",
   "execution_count": 114,
   "metadata": {},
   "outputs": [],
   "source": [
    "df.rolling('30d',128 )\n",
    "import numpy as np    \n",
    "n = 100\n",
    "matrix = np.zeros((n,2)) # Pre-allocate matrix\n",
    "for i in range(1,n):\n",
    "    matrix[i,:] = [3*i, i**2]"
   ]
  },
  {
   "cell_type": "code",
   "execution_count": 143,
   "metadata": {},
   "outputs": [],
   "source": [
    "n = df.shape[0]\n",
    "step = 30\n",
    "length = 256\n",
    "list(range(0, n, step))\n",
    "stop = int(n-length)\n",
    "# for i in range(0, stop, step):\n",
    "i = 0   \n",
    "aux = df[i:i+length]\n",
    "aux = aux.dropna(axis='columns') \n",
    "fix_companies = aux.columns"
   ]
  },
  {
   "cell_type": "code",
   "execution_count": 145,
   "metadata": {},
   "outputs": [
    {
     "data": {
      "text/plain": [
       "Index(['MMM', 'AOS', 'ABT', 'ACN', 'ATVI', 'ADM', 'ADBE', 'ADP', 'AAP', 'AES',\n",
       "       ...\n",
       "       'WHR', 'WMB', 'WTW', 'GWW', 'WYNN', 'XEL', 'YUM', 'ZBRA', 'ZBH',\n",
       "       'ZION'],\n",
       "      dtype='object', length=434)"
      ]
     },
     "execution_count": 145,
     "metadata": {},
     "output_type": "execute_result"
    }
   ],
   "source": [
    "fix_companies"
   ]
  },
  {
   "cell_type": "code",
   "execution_count": 146,
   "metadata": {},
   "outputs": [
    {
     "data": {
      "text/plain": [
       "434"
      ]
     },
     "execution_count": 146,
     "metadata": {},
     "output_type": "execute_result"
    }
   ],
   "source": [
    "len(fix_companies)"
   ]
  },
  {
   "cell_type": "code",
   "execution_count": 148,
   "metadata": {},
   "outputs": [
    {
     "data": {
      "text/plain": [
       "2626"
      ]
     },
     "execution_count": 148,
     "metadata": {},
     "output_type": "execute_result"
    }
   ],
   "source": [
    "2340 + length + step"
   ]
  },
  {
   "cell_type": "code",
   "execution_count": 149,
   "metadata": {},
   "outputs": [
    {
     "data": {
      "text/plain": [
       "2367"
      ]
     },
     "execution_count": 149,
     "metadata": {},
     "output_type": "execute_result"
    }
   ],
   "source": [
    "stop"
   ]
  },
  {
   "cell_type": "code",
   "execution_count": 150,
   "metadata": {},
   "outputs": [
    {
     "data": {
      "text/plain": [
       "79"
      ]
     },
     "execution_count": 150,
     "metadata": {},
     "output_type": "execute_result"
    }
   ],
   "source": [
    "len(list(range(0, stop, step)))"
   ]
  },
  {
   "cell_type": "code",
   "execution_count": 151,
   "metadata": {},
   "outputs": [],
   "source": [
    "fix_companies = set(fix_companies)\n"
   ]
  },
  {
   "cell_type": "code",
   "execution_count": 152,
   "metadata": {},
   "outputs": [],
   "source": [
    "for i,j in zip(range(0, stop, step), range(len(list(range(0, stop, step))))):\n",
    "    aux = df[i:i+length]\n",
    "    aux = aux.dropna(axis='columns')\n",
    "    fix_companies_aux= aux.columns\n",
    "    fix_companies_aux = set(fix_companies_aux)\n",
    "    fix_companies = fix_companies.intersection(fix_companies_aux)\n"
   ]
  },
  {
   "cell_type": "code",
   "execution_count": 153,
   "metadata": {},
   "outputs": [
    {
     "data": {
      "text/plain": [
       "434"
      ]
     },
     "execution_count": 153,
     "metadata": {},
     "output_type": "execute_result"
    }
   ],
   "source": [
    "fix_companies = list(fix_companies)\n",
    "len(fix_companies)"
   ]
  },
  {
   "cell_type": "code",
   "execution_count": 154,
   "metadata": {},
   "outputs": [],
   "source": [
    "import pickle\n",
    "l = list(fix_companies)\n",
    "with open(\"fix_companies\", \"wb\") as fp:   #Pickling\n",
    "    pickle.dump(l, fp)"
   ]
  },
  {
   "cell_type": "code",
   "execution_count": 155,
   "metadata": {},
   "outputs": [
    {
     "data": {
      "text/plain": [
       "(79, 256, 434)"
      ]
     },
     "execution_count": 155,
     "metadata": {},
     "output_type": "execute_result"
    }
   ],
   "source": [
    "data = np.empty(( len(list(range(0, stop, step))), length, len(fix_companies)))\n",
    "data.shape"
   ]
  },
  {
   "cell_type": "code",
   "execution_count": 156,
   "metadata": {},
   "outputs": [],
   "source": [
    "\n",
    "for i,j in zip(range(0, stop, step), range(len(list(range(0, stop, step))))):\n",
    "    aux = df[i:i+length][fix_companies]\n",
    "    data[j,:,:] = aux.values  \n"
   ]
  },
  {
   "cell_type": "code",
   "execution_count": 157,
   "metadata": {},
   "outputs": [
    {
     "data": {
      "text/plain": [
       "(79, 256, 434)"
      ]
     },
     "execution_count": 157,
     "metadata": {},
     "output_type": "execute_result"
    }
   ],
   "source": [
    "data.shape"
   ]
  },
  {
   "cell_type": "code",
   "execution_count": 158,
   "metadata": {},
   "outputs": [
    {
     "data": {
      "text/plain": [
       "array([[ 0.02198572,  0.0083803 ,  0.01762536, ...,  0.0218184 ,\n",
       "         0.02743387,  0.02453009],\n",
       "       [-0.00482656, -0.01997975, -0.01112562, ...,  0.00114825,\n",
       "        -0.01218189, -0.00890476],\n",
       "       [ 0.00529257,  0.05798725, -0.0163291 , ..., -0.00155851,\n",
       "        -0.02894613, -0.04700288],\n",
       "       ...,\n",
       "       [ 0.0070408 ,  0.02416737, -0.012221  , ...,  0.00210306,\n",
       "        -0.00179763, -0.01422951],\n",
       "       [ 0.00395284,  0.00501939,  0.00420615, ...,  0.01209701,\n",
       "         0.00386776,  0.033406  ],\n",
       "       [-0.00316126,  0.01413475, -0.00098973, ...,  0.00528241,\n",
       "        -0.0145117 , -0.01083877]])"
      ]
     },
     "execution_count": 158,
     "metadata": {},
     "output_type": "execute_result"
    }
   ],
   "source": [
    "aux.values"
   ]
  },
  {
   "cell_type": "code",
   "execution_count": 159,
   "metadata": {},
   "outputs": [
    {
     "data": {
      "text/plain": [
       "array([[ 0.02198572,  0.0083803 ,  0.01762536, ...,  0.0218184 ,\n",
       "         0.02743387,  0.02453009],\n",
       "       [-0.00482656, -0.01997975, -0.01112562, ...,  0.00114825,\n",
       "        -0.01218189, -0.00890476],\n",
       "       [ 0.00529257,  0.05798725, -0.0163291 , ..., -0.00155851,\n",
       "        -0.02894613, -0.04700288],\n",
       "       ...,\n",
       "       [ 0.0070408 ,  0.02416737, -0.012221  , ...,  0.00210306,\n",
       "        -0.00179763, -0.01422951],\n",
       "       [ 0.00395284,  0.00501939,  0.00420615, ...,  0.01209701,\n",
       "         0.00386776,  0.033406  ],\n",
       "       [-0.00316126,  0.01413475, -0.00098973, ...,  0.00528241,\n",
       "        -0.0145117 , -0.01083877]])"
      ]
     },
     "execution_count": 159,
     "metadata": {},
     "output_type": "execute_result"
    }
   ],
   "source": [
    "data[-1]"
   ]
  },
  {
   "cell_type": "markdown",
   "metadata": {},
   "source": [
    "train, test = train_test_split(data, test_size=0.2, random_state=42)\n",
    "print(data.shape, train.shape, test.shape)"
   ]
  },
  {
   "cell_type": "code",
   "execution_count": 162,
   "metadata": {},
   "outputs": [
    {
     "data": {
      "text/plain": [
       "False"
      ]
     },
     "execution_count": 162,
     "metadata": {},
     "output_type": "execute_result"
    }
   ],
   "source": [
    "np.isnan(data).any()"
   ]
  },
  {
   "cell_type": "code",
   "execution_count": 163,
   "metadata": {},
   "outputs": [],
   "source": [
    "if not os.path.exists('master_data'):\n",
    "        os.makedirs('master_data')\n",
    "# np.save('master_data/train.npy', train)\n",
    "# np.save('master_data/test.npy', test)\n",
    "np.save('master_data/fix_companies.npy', fix_companies)\n",
    "np.save('master_data/data.npy', data)"
   ]
  }
 ],
 "metadata": {
  "kernelspec": {
   "display_name": "torch-gpu",
   "language": "python",
   "name": "python3"
  },
  "language_info": {
   "codemirror_mode": {
    "name": "ipython",
    "version": 3
   },
   "file_extension": ".py",
   "mimetype": "text/x-python",
   "name": "python",
   "nbconvert_exporter": "python",
   "pygments_lexer": "ipython3",
   "version": "3.8.16"
  },
  "orig_nbformat": 4
 },
 "nbformat": 4,
 "nbformat_minor": 2
}
